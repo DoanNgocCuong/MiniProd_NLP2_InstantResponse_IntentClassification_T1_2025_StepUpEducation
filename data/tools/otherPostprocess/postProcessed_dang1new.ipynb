{
 "cells": [
  {
   "cell_type": "markdown",
   "metadata": {},
   "source": [
    "Code . \n",
    "1. Xem file excel processed_dang1new.xlsx \n",
    "2. copy ra 1 file mới là postproceed_dang1new.xlsx\n",
    "- Xử lý file này như sau. \n",
    "+, lọc lấy các dòng data có cột user_intent là 'intent_learn_more\n",
    "'\n",
    "+, \n",
    "\n",
    "# Tạo DataFrame mẫu\n",
    "data = {\n",
    "    \"column_name\": [\n",
    "        \"Chỉ tớ thêm với!\",\n",
    "        \"Có gì hay nữa không?\",\n",
    "        \"Tớ muốn học tiếp!\",\n",
    "        \"...\",\n",
    "        \"Tớ thích bóng đá.\",\n",
    "    ]\n",
    "}\n",
    "df = pd.DataFrame(data)\n",
    "\n",
    "# Lọc các hàng không chứa \"...\"\n",
    "filtered_df = df[~df[\"column_name\"].str.contains(r\"\\.\\.\\.\", na=False)]\n",
    "\n",
    "Xem thử các hàng đó xem như nào rồi quyết định xem có xoá đi không "
   ]
  },
  {
   "cell_type": "markdown",
   "metadata": {},
   "source": [
    "\n",
    "Trong file mới này bỏ các dòng mà trong cột robot có chứa cụm 'nói thử', 'thử nói' (ko kể in hoa hay viết thường) "
   ]
  },
  {
   "cell_type": "code",
   "execution_count": 2,
   "metadata": {},
   "outputs": [],
   "source": [
    "import pandas as pd\n",
    "\n",
    "# Đọc file Excel gốc\n",
    "df = pd.read_excel('./processed_data_example_v6_15000Data_dang123new_cleaned_data.xlsx')\n",
    "\n",
    "# Lọc các dòng thỏa mãn điều kiện\n",
    "removed_rows = df[(df['user_intent'] == 'intent_learn_more') & \n",
    "                  (df['robot'].str.contains('nói thử|thử nói', case=False, na=False))]\n",
    "\n",
    "# Bỏ các dòng thỏa mãn điều kiện\n",
    "df = df[~((df['user_intent'] == 'intent_learn_more') & \n",
    "           (df['robot'].str.contains('nói thử|thử nói', case=False, na=False)))]\n",
    "\n",
    "# Lưu các dòng đã bị bỏ vào file mới\n",
    "removed_rows.to_excel('./removed_rows.xlsx', index=False)\n",
    "\n",
    "# Lưu kết quả còn lại vào file gốc đã bỏ các dòng không cần thiết\n",
    "df.to_excel('./postproceed_dang1new.xlsx', index=False)"
   ]
  },
  {
   "cell_type": "markdown",
   "metadata": {},
   "source": []
  }
 ],
 "metadata": {
  "kernelspec": {
   "display_name": "Python 3",
   "language": "python",
   "name": "python3"
  },
  "language_info": {
   "codemirror_mode": {
    "name": "ipython",
    "version": 3
   },
   "file_extension": ".py",
   "mimetype": "text/x-python",
   "name": "python",
   "nbconvert_exporter": "python",
   "pygments_lexer": "ipython3",
   "version": "3.12.8"
  }
 },
 "nbformat": 4,
 "nbformat_minor": 2
}
