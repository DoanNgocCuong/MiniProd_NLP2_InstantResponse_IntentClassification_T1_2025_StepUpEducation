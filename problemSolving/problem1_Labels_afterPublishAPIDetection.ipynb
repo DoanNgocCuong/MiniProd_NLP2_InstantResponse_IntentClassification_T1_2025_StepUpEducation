{
 "cells": [
  {
   "cell_type": "markdown",
   "metadata": {},
   "source": [
    "## 6 dạng bài: \n",
    "```\n",
    "1. Có sẵn từ, câu và present với user. Ví dụ: Từ con gà tiếng anh là Chicken. Cùng nhắc lại theo mình nhé or Cậu biết từ đánh răng tiếng anh là gì không. user trả lời brush my teeth.\n",
    "2. Lấy thông tin từ user và present tiếng Anh. Ví dụ: Cậu thích ăn món gì, tớ thích ăn mì. Oh mì trong tiếng anh là noodle, nhắc lại theo tớ nhé noodle.\n",
    "3. Có tình huống có sẵn để user phản xạ. Ví dụ: Cậu muốn mượn bạn cậu 1 quyển sách cậu nói thế nào? hoặc mẹ cậu đi làm về nhà và cậu chào mẹ. Chào mẹ trong tiếng anh là gì nhỉ\n",
    "4. Hỏi về các thông tin user có. Bây giờ tớ sẽ hỏi thông tin về gia đình cậu nhé. how many people are there in your house? Trả lời tớ bằng tiếng anh nhé\n",
    "5. Đưa ra 1 đoạn cho user nhắc lại. Hôm nay chúng mình đã học được 3 câu, hãy nhắc lại theo tớ nhé. I wake up, i brush my teeth, i eat breakfast\n",
    "6. Hỏi để user kể 1 đoạn. Ví dụ: Cậu hãy kể về 1 buối sáng của cậu bằng Tiếng Anh cho tớ nghe nhé\n",
    "```"
   ]
  },
  {
   "cell_type": "markdown",
   "metadata": {},
   "source": [
    "## 20-25 chủ đề bao quát (mỗi chủ đề 5 cụm)"
   ]
  },
  {
   "cell_type": "markdown",
   "metadata": {},
   "source": [
    "## 6 nhãn: intent_positive, intent_negative, intent_neutral, intent_learn_more, intent_fallback, silence \n",
    "\n",
    "\n",
    "intent_positive, intent_negative, intent_neutral, intent_question, intent_present, intent_repeat\n"
   ]
  },
  {
   "cell_type": "markdown",
   "metadata": {},
   "source": [
    "## Vấn đề là: \n",
    "- Mapping giữa các nhãn và các câu fast_response đang khá chung chung. \n",
    "Chẳng hạn: `Woa, tuyệt quá`. + `Tiếc quá, sai mất rồi, cậu thử lại nhé`"
   ]
  },
  {
   "cell_type": "markdown",
   "metadata": {},
   "source": [
    "anh @Truc Le Van  ơi. \n",
    "Trong bài: Fast Response này. \n",
    "\n",
    "Với trường hợp mà: \n",
    "- Fast reponse: 'Wow, tuyệt quá'\n",
    "- LLMs: 'Tiếc quá, câu trả lời chưa đúng lắm'\n"
   ]
  },
  {
   "cell_type": "code",
   "execution_count": null,
   "metadata": {},
   "outputs": [],
   "source": []
  }
 ],
 "metadata": {
  "language_info": {
   "name": "python"
  }
 },
 "nbformat": 4,
 "nbformat_minor": 2
}
