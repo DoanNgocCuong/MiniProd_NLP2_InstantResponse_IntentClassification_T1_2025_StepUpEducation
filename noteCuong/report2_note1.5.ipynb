{
 "cells": [
  {
   "cell_type": "markdown",
   "metadata": {},
   "source": [
    "```\n",
    "- 3500 Test (Ko Shuffle): 75.95%\n",
    "\n",
    "2. Đánh giá trên bộ 600 câu được tạo bởi 50 cụm mới hoàn toàn: \n",
    "- Với BERT cũ: Để bình thường và CLS, SEP bị double => Accuracy: 68.16% (10 epochs). \n",
    "Hôm qua (best epoch 90/100 epochs) đánh giá trên data mới toanh này chỉ đạt 46.67%\n",
    "- Khi Chuyển sang: lowercase và question: {question}. answer: {answer} độ chính xác lên : 69.65% (10 epochs). \n",
    "\n",
    "```"
   ]
  }
 ],
 "metadata": {
  "language_info": {
   "name": "python"
  }
 },
 "nbformat": 4,
 "nbformat_minor": 2
}
