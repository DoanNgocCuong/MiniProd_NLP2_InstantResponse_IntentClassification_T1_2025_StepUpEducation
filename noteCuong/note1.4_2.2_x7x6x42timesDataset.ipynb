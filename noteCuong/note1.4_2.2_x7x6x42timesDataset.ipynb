{
 "cells": [
  {
   "cell_type": "markdown",
   "metadata": {},
   "source": [
    "# 1. Xuất phát từ việc : 1. Phải cân bằng nhãn + 2. Là cần xử lý việc không quá khớp các trường hợp của nhãn khi gen = AI (nhãn fallback, slience, negative HOÀN TOÀN có thể tạo ngẫu nhiên về sau dựa vào câu robot-user)\n",
    "\n",
    "=> Trong lúc gen tới bộ dang3new mình đã nghĩ ra: X6 lần data. \n",
    "- Chỉ cần dựa vào cột : robot -> biến thể các câu của user theo 6 nhãn, tức cùng ROBOT - các câu user khác nhau thì nhãn khác nhau (ko phải x6 mà là x nhiều hơn -)))"
   ]
  },
  {
   "cell_type": "markdown",
   "metadata": {},
   "source": []
  },
  {
   "cell_type": "markdown",
   "metadata": {},
   "source": [
    "# 2. Là Augmentation Data bằng các cách BIẾN ĐỔI NGỮ NGHĨA"
   ]
  },
  {
   "cell_type": "markdown",
   "metadata": {},
   "source": [
    "**Data Augmentation trong ngữ cảnh hội thoại Robot - Học sinh** là việc tạo ra các biến thể khác nhau của cùng một đoạn hội thoại hoặc tình huống, nhằm làm phong phú dữ liệu và cải thiện khả năng xử lý của hệ thống. Dưới đây là các cách thực hiện cụ thể:  \n",
    "\n",
    "---\n",
    "\n",
    "### **1. Synonym Replacement (Thay thế từ đồng nghĩa):**\n",
    "- Thay các từ/cụm từ trong câu bằng từ đồng nghĩa phù hợp ngữ cảnh.  \n",
    "- **Ví dụ:**  \n",
    "  - Robot: \"Cậu có thể nói 'Tớ không muốn tắm' bằng tiếng Anh thế nào?\"  \n",
    "    - Augmented:  \n",
    "      - \"Cậu thử nói 'Tớ chẳng muốn tắm đâu' bằng tiếng Anh xem nào.\"  \n",
    "      - \"Nếu cậu không thích tắm, cậu sẽ nói gì bằng tiếng Anh?\"  \n",
    "\n",
    "---\n",
    "\n",
    "### **2. Sentence Rephrasing (Viết lại câu):**\n",
    "- Viết lại câu giữ nguyên ý nghĩa nhưng thay đổi cấu trúc hoặc cách diễn đạt.  \n",
    "- **Ví dụ:**  \n",
    "  - Robot: \"Nếu cậu mệt và không muốn tắm, cậu sẽ nói gì?\"  \n",
    "    - Augmented:  \n",
    "      - \"Trong tình huống cậu mệt và không muốn tắm, cậu sẽ diễn đạt bằng tiếng Anh ra sao?\"  \n",
    "      - \"Khi cậu mệt và không thích tắm, câu nói tiếng Anh của cậu sẽ thế nào?\"  \n",
    "\n",
    "---\n",
    "\n",
    "### **3. Context Variations (Thay đổi ngữ cảnh):**\n",
    "- Thay đổi ngữ cảnh câu hỏi nhưng vẫn giữ cụm từ chính.  \n",
    "- **Ví dụ:**  \n",
    "  - **Cụm từ chính:** **Wake up**  \n",
    "    - Robot: \"Nếu bạn gọi điện đánh thức cậu dậy, cậu sẽ nói gì bằng tiếng Anh?\"  \n",
    "    - Augmented:  \n",
    "      - \"Mẹ cậu gọi cậu dậy sớm, cậu sẽ trả lời sao bằng tiếng Anh?\"  \n",
    "      - \"Bạn hỏi cậu đã tỉnh chưa, cậu sẽ đáp lại thế nào trong tiếng Anh?\"  \n",
    "\n",
    "---\n",
    "\n",
    "### **4. Polarity Change (Thay đổi sắc thái câu hỏi):**\n",
    "- Đặt câu hỏi từ một góc độ khác, chuyển câu hỏi từ dạng tích cực sang tiêu cực hoặc ngược lại.  \n",
    "- **Ví dụ:**  \n",
    "  - Robot: \"Nếu cậu không thích bị đánh thức, cậu sẽ nói sao bằng tiếng Anh?\"  \n",
    "    - Augmented:  \n",
    "      - \"Nếu cậu thấy vui vì được đánh thức sớm, cậu sẽ nói sao?\"  \n",
    "\n",
    "---\n",
    "\n",
    "### **5. User Response Variations (Tạo biến thể cho câu trả lời):**\n",
    "- Tạo nhiều cách trả lời khác nhau cho cùng một câu hỏi.  \n",
    "- **Ví dụ:**  \n",
    "  - Robot: \"Cậu sẽ nói gì khi vừa tỉnh dậy?\"  \n",
    "    - **Original User Answer:** \"I just woke up.\"  \n",
    "    - **Augmented:**  \n",
    "      - \"I woke up just now.\"  \n",
    "      - \"I’m awake.\"  \n",
    "      - \"I’ve just gotten up.\"  \n",
    "\n",
    "---\n",
    "\n",
    "### **6. Tone Adjustment (Điều chỉnh giọng điệu):**\n",
    "- Thay đổi giọng điệu giữa thân thiện, lịch sự hoặc trung lập.  \n",
    "- **Ví dụ:**  \n",
    "  - Robot: \"Cậu có thể nói 'Tớ không muốn tắm' như thế nào trong tiếng Anh?\"  \n",
    "    - Augmented:  \n",
    "      - \"Cậu giúp tớ nói câu 'Tớ không thích tắm' bằng tiếng Anh được không?\"  \n",
    "      - \"Cậu thử dịch câu 'Tớ không muốn tắm' sang tiếng Anh xem nào?\"  \n",
    "\n",
    "---\n",
    "\n",
    "### **7. Negative/Positive Question Flip (Đảo ngược câu hỏi):**\n",
    "- Chuyển câu hỏi từ tiêu cực sang tích cực hoặc ngược lại.  \n",
    "- **Ví dụ:**  \n",
    "  - **Negative:** \"Nếu cậu không muốn thức dậy sớm, cậu sẽ nói sao?\"  \n",
    "  - **Positive (Flipped):** \"Nếu cậu thích thức dậy sớm, cậu sẽ nói gì?\"  \n",
    "\n",
    "---\n",
    "\n",
    "### **Kết quả mong đợi:**  \n",
    "Bằng cách áp dụng các phương pháp trên, dữ liệu sẽ phong phú hơn, bao quát nhiều tình huống, cách diễn đạt và phản ứng của người học, từ đó tăng cường khả năng huấn luyện và độ chính xác của hệ thống hội thoại."
   ]
  }
 ],
 "metadata": {
  "language_info": {
   "name": "python"
  }
 },
 "nbformat": 4,
 "nbformat_minor": 2
}
