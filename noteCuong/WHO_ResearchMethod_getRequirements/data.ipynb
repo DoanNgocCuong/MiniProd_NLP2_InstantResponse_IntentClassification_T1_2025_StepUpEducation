{
 "cells": [
  {
   "cell_type": "markdown",
   "metadata": {},
   "source": [
    "```\n",
    "Chuẩn bị hộ tôi dữ liệu dạng như này \n",
    "\n",
    "Chuẩn bị hộ tôi dữ liệu dạng như này \n",
    "\n",
    "text intent\n",
    "\n",
    "...   ...\n",
    "Dựa vào History hội thoại chatbot  + Câu cuối của Uuer (TIẾNG VIỆT). \n",
    "Ta cần phân biệt các tình huống: (TIẾNG VIỆT)\n",
    "\n",
    "- User đồng ý (“Yes, I want to show the drawing”)\n",
    "- User từ chối (“No, I don’t want to…”)\n",
    "- User không chắc chắn / không biết (“I don’t know…”)\n",
    "- User im lặng (timeout)\n",
    "- Các câu trả lời không khớp (fallback)\n",
    "```"
   ]
  },
  {
   "cell_type": "code",
   "execution_count": null,
   "metadata": {},
   "outputs": [],
   "source": []
  }
 ],
 "metadata": {
  "language_info": {
   "name": "python"
  }
 },
 "nbformat": 4,
 "nbformat_minor": 2
}
