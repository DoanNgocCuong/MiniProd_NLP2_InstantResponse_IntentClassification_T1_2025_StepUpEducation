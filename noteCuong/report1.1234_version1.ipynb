{
 "cells": [
  {
   "cell_type": "markdown",
   "metadata": {},
   "source": [
    "# Report 1.1"
   ]
  },
  {
   "cell_type": "markdown",
   "metadata": {},
   "source": [
    "```\n",
    "Test chung trên:\n",
    "```python\n",
    "input_file = \"/content/processed_data_example_v4_15000Data.xlsx\"\n",
    "output_file = \"evaluation_results.xlsx\"\n",
    "num_rows = 500  # Số lượng dòng muốn đánh giá\n",
    "```\n",
    "- https://wandb.ai/doanngoccuong_nh/bertIntentClassification/artifacts/model/best_model_epoch_30/v0/usage => 83.33%   (Train trên Bộ 10000 hay bộ 15000 data ko nhớ)\n",
    "- https://wandb.ai/doanngoccuong_nh/bertIntentClassification/artifacts/model/best_model_epoch_10/v0 (Train trên bộ 10000) => 86.67%\n",
    "- https://wandb.ai/doanngoccuong_nh/bertIntentClassification/artifacts/model/best_model_epoch_10/v0 (Train trên bộ 15000) => 90.00%\n",
    "- https://wandb.ai/doanngoccuong_nh/bertIntentClassification/artifacts/model/best_model_epoch_80/v0/usage  => 96.67% (Train trên bộ 15000 data)\n",
    "\n",
    "---\n",
    "\n",
    "\n",
    "Chuyển sang bộ data mới toanh đánh giá cho chuẩn hơn: (50 cụm mới hoàn toàn)\n",
    "```\n",
    "600 dòng - 50 cụm từ * 12\n",
    "```\n",
    "- Acc: 68.49%\n",
    "```"
   ]
  },
  {
   "cell_type": "markdown",
   "metadata": {},
   "source": [
    "[OVERFITTING Report]: Em gửi report phần model hiện tại ạ.\n",
    "\n",
    "\n",
    "Dataset: 15000 bộ: robot - user_answer - user_intent. \n",
    "Cách tạo: 500 cụm từ * 3 dạng bài * 12 Turn (1 conversation: robot - user_answer_intent) = 15000 dòng data.\n",
    "\n",
    "2. Model: BERT, 450MB,\n",
    "Accuracy trên 500 dòng data đã train: 90%\n",
    "Accuracy trên 5000 dòng data đã train: 86.67%\n",
    "Accuracy (đánh giá trên 600 dòng mới toanh) Acc: 46.67%\n",
    "\n",
    "3. Train: 100 epochs, so sánh các best_eval (epoch30, 80, ...)\n",
    "----\n",
    "Link: https://docs.google.com/spreadsheets/d/1yh_b0XCiyAgaqpeez9GO9jJnaDsiEdg3w6SgZ5U8-1g/edit?usp=sharing\n",
    "----\n",
    "\n",
    "-------\n",
    "Model Overfititng,\n",
    "Dự đoán nguyên nhân:\n",
    "\n",
    "1.  Overfitting do tập train quá ít đa dạng:\n",
    "- 15,000 dòng data từ 500 cụm từ (gốc) => mô hình \"học thuộc\" hơn là \"học cách tổng quát\".  \n",
    "- Trong khi đó bộ test được tạo từ 50 cụm mới. \n",
    "\n",
    "2. \n",
    "3. \n",
    "Hướng cải thiện:\n",
    "Sử dụng 1 model tốt hơn, có thể là: XLM-R (XLM-RoBERTa); Kết hợp PhoBERT + BERTweet\n",
    "Đa dạng các cụm tiếng anh hơn là chỉ 500 cụm gen tới 15000 bộ question-answer. \n",
    "\n",
    "====\n",
    "\n",
    "anh @cuongvc, anh @Đinh Hùng, anh @Minh Hoang Duc\n",
    "---\n",
    "a @Đinh Hùng ơi SOS Ạ.!!!"
   ]
  },
  {
   "cell_type": "markdown",
   "metadata": {},
   "source": [
    "```\n",
    "- 3500 Test (Ko Shuffle): 75.95%\n",
    "\n",
    "2. Đánh giá trên bộ 600 câu được tạo bởi 50 cụm mới hoàn toàn: \n",
    "- Với BERT cũ: Để bình thường và CLS, SEP bị double => Accuracy: 68.16% (10 epochs). \n",
    "Hôm qua (best epoch 90/100 epochs) đánh giá trên data mới toanh này chỉ đạt 46.67%\n",
    "- Khi Chuyển sang: lowercase và question: {question}. answer: {answer} độ chính xác lên : 69.65% (10 epochs). \n",
    "\n",
    "```"
   ]
  },
  {
   "cell_type": "markdown",
   "metadata": {},
   "source": [
    "Với bộ data này thì hôm thứ 5, em train với 10 epochs XLM-RoBERTa thì Acc đã từ 49 % lên 79% (cho tập Test riêng biệt hôm nọ) ạ"
   ]
  },
  {
   "cell_type": "markdown",
   "metadata": {},
   "source": [
    "# Report 1.2"
   ]
  },
  {
   "cell_type": "markdown",
   "metadata": {},
   "source": [
    "[63.31%]\n",
    "\n",
    "Em gửi Report FAST RESPONSE INTENTION model hiện tại ạ.\n",
    "------------\n",
    "Hiệu suất tổng thể\n",
    "| Model           | Bộ test 1 | Bộ test 2 |\n",
    "|------------------|-----------|-----------|\n",
    "| Bert            | 46.67%    | -         |\n",
    "| XLM-RoBERTa     | 79.1%     | 63.31%    |\n",
    "\n",
    "\n",
    "2. Đóng API:\n",
    "curl --location 'http://103.253.20.13:25041/predict' \\\n",
    "--header 'Content-Type: application/json' \\\n",
    "--data '{\"robot\": \"Cậu có thể nói về gia đình cậu không? Like, who do you live with?\", \"user_answer\": \"Tớ sống với mẹ và ba, nhưng không có gì đặc biệt.\"}'\n",
    "\n",
    "---\n",
    "# Vấn đề cần xử lý - Next step:\n",
    "\n",
    "1. Benchmark chuẩn để có bộ Testing Acc chính xác.\n",
    "2. Train tối ưu model\n",
    "3. Có thể cần tối ưu data, tăng thêm data, Augmentation Data.\n",
    "- 1. Copy câu của robot, chế câu của user => được gấp 2, 3 dữ liệu cho nhãn: fallback và silence.\n",
    "- 2. Augmentation bằng việc THAY ĐỔI NGỮ NGHĨA của câu robot và user."
   ]
  },
  {
   "cell_type": "markdown",
   "metadata": {},
   "source": []
  },
  {
   "cell_type": "markdown",
   "metadata": {},
   "source": [
    "# Report 1.3"
   ]
  },
  {
   "cell_type": "markdown",
   "metadata": {},
   "source": [
    "[Update]:\n",
    "Link đánh giá mới : https://docs.google.com/spreadsheets/d/1NghH_BJj921-AjbdNeonJsACyUQCGzdr6PncJl6BKpw/edit?usp=sharing\n",
    "\n",
    "Link chi tiết: https://docs.google.com/spreadsheets/d/1yh_b0XCiyAgaqpeez9GO9jJnaDsiEdg3w6SgZ5U8-1g/edit?usp=sharing\n",
    "---\n",
    "Em gửi report hiện tại - acc: 95% (trên bộ test2)\n",
    "<Acc tăng từ 63% - lên 95% - nhờ đổi bộ Train v4->v5)\n",
    "\n",
    "---\n",
    "=> 1. Model hoàn toàn có khả năng đạt được Acc: 95%.\n",
    "Next Step:\n",
    "Có 1 số cases cần mn ngồi confirm với nhau xem NHÃN NÀO THÌ HỢP LÝ NHẤT, em có hẹn a Minh để 2 ae ngồi confirm lại nhãn cho 1 số cases như này ạ. \n",
    "\n",
    "  "
   ]
  },
  {
   "cell_type": "markdown",
   "metadata": {},
   "source": [
    "# Report 1.4 - Version 1 API done \n",
    "\n",
    "```\n",
    "curl --location 'http://103.253.20.13:25041/predict' \\\n",
    "--header 'Content-Type: application/json' \\\n",
    "--data '{\"robot\": \"Cậu biết từ '\\''Engineer’s ruler'\\'' trong tiếng Việt là gì không? Nó là '\\''thước kẻ kỹ sư'\\''. Nào, cậu thử nhắc lại với tớ: Engineer’s ruler!\", \"user_answer\": \"Engineer’s ruler!\"}'\n",
    "```\n",
    "\n",
    "```\n",
    "{\n",
    "    \"user_intent\": \"intent_positive\",\n",
    "    \"confidence_score\": 0.9752864837646484,\n",
    "    \"response_time_ms\": 260.2353096008301,\n",
    "    \"fast_response\": \"À há\"\n",
    "}\n",
    "```"
   ]
  },
  {
   "cell_type": "markdown",
   "metadata": {},
   "source": [
    "Bài Intention này giờ Model, Acc không còn là vấn đề quá nữa ạ. \n",
    "---\n",
    "Tụi em (with anh @Minh Hoang Duc) đang quy về bài Define kỹ các nhãn, các cases (các nhãn nào thì hợp lý hơn, các cases nhỏ lẻ thì nhãn nào, ...) + Prompting  (Prompting để gán lại nhãn cho 30.000 dòng data, qua thực nghiệm em thấy không cần quá nhiều data như vậy, chỉ cần <= 5000 dòng với <=10 epochs đã cho Acc đạt 85-95%), (thậm chí tăng số epochs với tăng data Acc cũng ko tăng được nhiều). \n",
    "---\n",
    "Chốt xong nhãn và Data Train, Data Test chuẩn là xong ạ. \n",
    "\n",
    "====\n",
    "Tầm trong chiều nay sẽ chốt VERSION 2 CÁC NHÃN  và có bản Report với các nhãn mới này ạ. \n",
    "\n",
    "--------------------------"
   ]
  }
 ],
 "metadata": {
  "language_info": {
   "name": "python"
  }
 },
 "nbformat": 4,
 "nbformat_minor": 2
}
