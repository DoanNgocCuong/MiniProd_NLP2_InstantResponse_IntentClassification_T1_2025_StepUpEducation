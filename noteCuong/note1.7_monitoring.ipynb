{
 "cells": [
  {
   "cell_type": "markdown",
   "metadata": {},
   "source": [
    "\n",
    "\n",
    "Dựa trên kết quả tìm kiếm, có 3 cách phổ biến để chạy Python script trong background kể cả khi tắt terminal:\n",
    "\n",
    "1. Sử dụng `nohup` (No Hang Up):\n",
    "```bash\n",
    "nohup python train.py > training.log &\n",
    "```\n",
    "- `nohup` đảm bảo process tiếp tục chạy khi terminal đóng\n",
    "- `>` chuyển output vào file log\n",
    "- `&` chạy trong background\n",
    "\n",
    "2. Sử dụng `tmux` (Terminal Multiplexer) - **Recommended**:\n",
    "```bash\n",
    "# Tạo session mới\n",
    "tmux new -s training\n",
    "\n",
    "# Chạy script\n",
    "python train.py\n",
    "\n",
    "# Detach session (Ctrl+B, D)\n",
    "# Attach lại: tmux attach -t training\n",
    "```\n",
    "\n",
    "3. Sử dụng `screen`:\n",
    "```bash\n",
    "# Tạo session mới  \n",
    "screen -S training\n",
    "\n",
    "# Chạy script\n",
    "python train.py \n",
    "\n",
    "# Detach session (Ctrl+A, D)\n",
    "# Attach lại: screen -r training\n",
    "```\n",
    "\n",
    "Trong đó, `tmux` được recommend nhất vì:\n",
    "- Dễ quản lý nhiều sessions\n",
    "- Có thể chia màn hình\n",
    "- Có scroll buffer để xem log\n",
    "- Ổn định và được sử dụng rộng rãi\n",
    "- Có thể attach/detach dễ dàng\n",
    "\n",
    "[Nguồn: GeeksforGeeks - Running Python program in the background](https://www.geeksforgeeks.org/running-python-program-in-the-background/)\n"
   ]
  },
  {
   "cell_type": "code",
   "execution_count": null,
   "metadata": {},
   "outputs": [],
   "source": []
  }
 ],
 "metadata": {
  "language_info": {
   "name": "python"
  }
 },
 "nbformat": 4,
 "nbformat_minor": 2
}
