{
 "cells": [
  {
   "cell_type": "markdown",
   "metadata": {},
   "source": [
    "# @Web  thường mn sẽ làm như nào để deploy fastAPI server nhỉ? \n",
    "---\n",
    "trước tui xài flaskAPI toàn đóng thành docker xong: docker compose up -d để deploy server"
   ]
  },
  {
   "cell_type": "markdown",
   "metadata": {},
   "source": [
    "\n",
    "\n",
    "Khi triển khai một ứng dụng FastAPI, có nhiều cách để thực hiện, và việc sử dụng Docker là một trong những phương pháp phổ biến. Dưới đây là một số cách mà mọi người thường sử dụng để triển khai FastAPI server:\n",
    "\n",
    "### 1. **Sử dụng Docker**\n",
    "- **Docker** là một công cụ mạnh mẽ cho phép bạn đóng gói ứng dụng và tất cả các phụ thuộc của nó vào một container. Điều này giúp đảm bảo rằng ứng dụng của bạn chạy nhất quán trên mọi môi trường.\n",
    "- Bạn có thể tạo một `Dockerfile` cho ứng dụng FastAPI của mình và sau đó sử dụng `docker-compose` để quản lý các dịch vụ liên quan.\n",
    "\n",
    "**Ví dụ về Dockerfile:**\n",
    "```dockerfile\n",
    "FROM tiangolo/uvicorn-gunicorn-fastapi:python3.8\n",
    "\n",
    "COPY ./app /app\n",
    "\n",
    "# Cài đặt các phụ thuộc\n",
    "RUN pip install -r /app/requirements.txt\n",
    "\n",
    "# Chạy ứng dụng\n",
    "CMD [\"uvicorn\", \"app.main:app\", \"--host\", \"0.0.0.0\", \"--port\", \"80\"]\n",
    "```\n",
    "\n",
    "**Ví dụ về docker-compose.yml:**\n",
    "```yaml\n",
    "version: '3.8'\n",
    "\n",
    "services:\n",
    "  fastapi:\n",
    "    build: .\n",
    "    ports:\n",
    "      - \"80:80\"\n",
    "```\n",
    "\n",
    "### 2. **Sử dụng Uvicorn hoặc Gunicorn**\n",
    "- Bạn có thể chạy ứng dụng FastAPI trực tiếp bằng Uvicorn hoặc Gunicorn. Đây là các server ASGI (Asynchronous Server Gateway Interface) phù hợp cho FastAPI.\n",
    "- Ví dụ, bạn có thể chạy ứng dụng bằng lệnh sau:\n",
    "```bash\n",
    "uvicorn app.main:app --host 0.0.0.0 --port 80\n",
    "```\n",
    "\n",
    "### 3. **Triển khai trên Cloud Services**\n",
    "- Nhiều người chọn triển khai ứng dụng FastAPI trên các dịch vụ đám mây như AWS, Google Cloud, hoặc Heroku. Các dịch vụ này thường cung cấp các công cụ và hướng dẫn để triển khai ứng dụng web một cách dễ dàng.\n",
    "- Ví dụ, bạn có thể sử dụng AWS Elastic Beanstalk hoặc Google App Engine để triển khai ứng dụng FastAPI.\n",
    "\n",
    "### 4. **Sử dụng Nginx làm Reverse Proxy**\n",
    "- Để cải thiện hiệu suất và bảo mật, bạn có thể sử dụng Nginx làm reverse proxy cho ứng dụng FastAPI của mình. Nginx sẽ xử lý các yêu cầu HTTP và chuyển tiếp chúng đến ứng dụng FastAPI đang chạy trên Uvicorn hoặc Gunicorn.\n",
    "\n",
    "### Kết luận\n",
    "Việc triển khai FastAPI có thể được thực hiện theo nhiều cách khác nhau tùy thuộc vào nhu cầu và môi trường của bạn. Sử dụng Docker là một phương pháp phổ biến và hiệu quả, nhưng bạn cũng có thể chọn các phương pháp khác như chạy trực tiếp trên server hoặc sử dụng dịch vụ đám mây.\n"
   ]
  },
  {
   "cell_type": "code",
   "execution_count": null,
   "metadata": {},
   "outputs": [],
   "source": []
  }
 ],
 "metadata": {
  "language_info": {
   "name": "python"
  }
 },
 "nbformat": 4,
 "nbformat_minor": 2
}
